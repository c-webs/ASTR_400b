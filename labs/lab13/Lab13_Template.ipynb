{
 "cells": [
  {
   "cell_type": "markdown",
   "metadata": {
    "collapsed": true,
    "jupyter": {
     "outputs_hidden": true
    }
   },
   "source": [
    "# In Class Lab 13 Template\n",
    "# Cosmological Tools\n",
    "\n",
    "In this lab we will build on the Class called `CosmologicalTools` that we developed as part of earlier Labs.\n",
    "\n",
    "For Lab 13, we will create methods that compute: the temperature evolution of the universe and the sound horizon diameter. \n"
   ]
  },
  {
   "cell_type": "code",
   "execution_count": 1,
   "metadata": {},
   "outputs": [],
   "source": [
    "# import modules\n",
    "import numpy as np\n",
    "import astropy.units as u\n",
    "\n",
    "# Import the constant for the speed of light\n",
    "from astropy.constants import c\n",
    "\n",
    "# import plotting modules\n",
    "import matplotlib.pyplot as plt\n",
    "import matplotlib\n",
    "\n",
    "# tool for numerical integration from SciPy  \n",
    "from scipy.integrate import simps\n",
    "###### NOTE: If you have a more recent version of python/SciPy the \n",
    "# relevant function is \"simpson\".  You will need to replace \"simps\" \n",
    "# with \"simpson\" wherever it appears. \n",
    "\n",
    "### Lab 13: Import the boltzmann constant\n",
    "from astropy.constants import k_B \n",
    "\n"
   ]
  },
  {
   "cell_type": "markdown",
   "metadata": {},
   "source": [
    "\n",
    "# Part 1 :  Temperature Evolution\n",
    "\n",
    "## Question 1\n",
    "\n",
    "Complete the function `Temperature` to examine the Evolution of the average temperature of the universe as a function of time. \n",
    "\n",
    "$T(z) = T_o(1+z)$ \n",
    "\n",
    "Where $T_o = 2.7$K, the black body temperature that describes the CMB\n",
    "\n",
    "## Question 2\n",
    "- Define the Boltzmann constant in units of eV/K\n",
    "- What is the temperature needed to ionize a hydrogen atom (13.6eV)?\n",
    "- How does this temperature compare to the temperature at Recombination (photon-electron decoupling era; Z = 1100)\n",
    "\n",
    "\n",
    "## Question 3 \n",
    "Plot the temperature evolution of the universe as a function of 1+z "
   ]
  },
  {
   "cell_type": "markdown",
   "metadata": {},
   "source": [
    "# Part 2 : Horizon Distance and Angular Scale at Recombination\n",
    "\n",
    "## Question 1 \n",
    "\n",
    "What is the size of the universe at the epoch of reionization?\n",
    "\n",
    "\n",
    "## Question 2\n",
    "What angle does the causally connected region of the universe at z=1100 subtend on the sky today?\n"
   ]
  },
  {
   "cell_type": "markdown",
   "metadata": {},
   "source": [
    "# Part 3: Sound Horizon\n",
    "\n",
    "\n",
    "## Question 1\n",
    "Complete the function `SoundHorizon`, which is similar to the horizon distance except the relevant speed is the speed of sound in a photon-electron fluid \n",
    "\n",
    "$c_s$ = c/sqrt(3)\n",
    "\n",
    "Sound Horizon = $ \\frac{c_s}{1+z_e} \\int_{z_d}^{z_e} \\frac{dz'}{H(z')}$\n",
    "\n",
    "  Where  $z_d$= zDecoupling is the redshift at decoupling, $z_e$ is the redshift of the horizon (say $z_e$ = 5000).  \n",
    "  \n",
    "  \n",
    "## Question 2\n",
    "\n",
    "What is the sound horizon at the time of recombination? What about at present day? \n",
    "\n",
    "## Question 3 \n",
    "What is the angular size subtended by the Sound Horizon Diameter?\n"
   ]
  },
  {
   "cell_type": "code",
   "execution_count": 146,
   "metadata": {},
   "outputs": [],
   "source": [
    "class CosmologicalTools:\n",
    "    # Define a class that provides functions to compute \n",
    "    # various cosmological quantities\n",
    "    # for a given cosmology  \n",
    "        \n",
    "    def __init__(self, OmegaM0, OmegaR0, OmegaL0, h):\n",
    "        \"\"\" initialize the instance of the class \n",
    "        - for any given Cosmology\n",
    "        \n",
    "        PARAMETERS\n",
    "        ----------\n",
    "        OmegaM0: `float`\n",
    "            the Matter density parameter at z=0\n",
    "        \n",
    "        OmegaR0: `float` \n",
    "            the radiation density parameter at z=0\n",
    "        \n",
    "        OmegaL0: `float`\n",
    "            The dark energy density parameter at z=0\n",
    "            \n",
    "        h: `float` \n",
    "            the Normalization for the hubble parameter at z=0\n",
    "        \"\"\"\n",
    "        \n",
    "        # initialize the cosmology at z=0\n",
    "        self.OmegaM0 = OmegaM0    ### Matter Density Parameter\n",
    "        self.OmegaR0 = OmegaR0    ### Radiation Density Parameter\n",
    "        self.OmegaL0 = OmegaL0    ### Dark Energy Density Parameter\n",
    "        #### Curvature Density Parameter\n",
    "        self.OmegaK0 = 1 - (OmegaM0 + OmegaR0 + OmegaL0)    \n",
    "    \n",
    "        self.h = h   # Normalization of Hubble Parameter   \n",
    "        self.Ho = self.h*100*u.km/u.s/u.Mpc \n",
    "        #  Hubble Constant at z=0  100 h km/s/Mpc\n",
    "    \n",
    "    \n",
    "    def HubbleParameter(self, z):\n",
    "        \"\"\"  Method that defines the Hubble Parameter as a function of redshift\n",
    "            H(z)^2 = H_o^2 [ OmegaM0(1+z)^3 + OmegaR0(1+z)^4 \n",
    "            + OmegaLambda0 + OmegaK0(1+z)^2] \n",
    "        \n",
    "        PARAMETERS\n",
    "        ----------\n",
    "            z: `float`\n",
    "                redshift \n",
    "            \n",
    "        RETURNS\n",
    "        -------\n",
    "            Hz: `float`\n",
    "                Hubble Parameter as a function of z, in units of km/s/Mpc\n",
    "        \"\"\"\n",
    "        \n",
    "        # FILL THIS IN \n",
    "        OmegaM = self.OmegaM0*(1+z)**3 # OmegaM \n",
    "        OmegaR = self.OmegaR0*(1+z)**4\n",
    "        OmegaL = self.OmegaL0\n",
    "        OmegaK = self.OmegaK0*(1+z)**2\n",
    "        \n",
    "        Hz = self.Ho*np.sqrt(OmegaM+OmegaR+OmegaL+OmegaK)\n",
    "        \n",
    "        return  Hz\n",
    "    \n",
    "    \n",
    "    \n",
    "    def OmegaM_Z(self,z):\n",
    "        \"\"\" Method that defines the matter density\n",
    "        parameter as a function of redshift\n",
    "        OmegaM0*(1+z)**3*(Ho/Hz)^2\n",
    "        \n",
    "        PARAMETERS\n",
    "        ----------\n",
    "        z  `float or np.ndarray`\n",
    "            Redshift\n",
    "        \n",
    "        RETURNS\n",
    "        -------\n",
    "        OmegaM: `float or np.ndarray`\n",
    "            Matter Density Parameter at the given redshift.\n",
    "        \"\"\"\n",
    "        \n",
    "        OmegaM = self.OmegaM0*(1+z)**3*self.Ho**2/self.HubbleParameter(z)**2\n",
    "        \n",
    "        return OmegaM\n",
    "    \n",
    "    def OmegaR_Z(self,z):\n",
    "        \"\"\" Method that defines the radiation density parameter \n",
    "        as a function of redshift\n",
    "         OmegaR0*(1+z)**4*(Ho/Hz)^2\n",
    "         \n",
    "        PARAMETERS\n",
    "        ----------\n",
    "        z  `float or np.ndarray`\n",
    "            Redshift\n",
    "        \n",
    "        RETURNS\n",
    "        -------\n",
    "        OmegaR: `float or np.ndarray`\n",
    "            Radiation Density Parameter at the given redshift.\n",
    "        \"\"\"\n",
    "        \n",
    "        OmegaR =   self.OmegaR0*(1+z)**4*self.Ho**2/self.HubbleParameter(z)**2\n",
    "        \n",
    "        return OmegaR\n",
    "    \n",
    "    \n",
    "    def OmegaL_Z(self,z):\n",
    "        \"\"\" Method that defines the dark energy density parameter \n",
    "        as a function of redshift\n",
    "        OmegaL0*(Ho/Hz)^2\n",
    "        \n",
    "        PARAMETERS\n",
    "        ----------\n",
    "        z  `float or np.ndarray`\n",
    "            Redshift\n",
    "        \n",
    "        RETURNS\n",
    "        -------\n",
    "        OmegaL: `float or np.ndarray`\n",
    "            Dark Energy Density Parameter at the given redshift.\n",
    "        \"\"\"\n",
    "            \n",
    "        OmegaL = self.OmegaL0*self.Ho**2/self.HubbleParameter(z)**2\n",
    "        \n",
    "        return OmegaL\n",
    "    \n",
    "    \n",
    "       \n",
    "    \n",
    "    \n",
    "    def LookBackTime(self, ze):\n",
    "        \"\"\" Method that computes the Look Back Time at a given redshift\n",
    "         i.e. the difference in time from when a photon was \n",
    "         emitted to when it is observed at present day.\n",
    "         \n",
    "         Integrand: 1/H(z)/(1+z)\n",
    "         \n",
    "        PARAMETERS\n",
    "        ----------\n",
    "        ze : `float`\n",
    "            Redshift emitted (ze). This cannot be an array\n",
    "            \n",
    "        RETURNS\n",
    "        -------\n",
    "        time: `float`\n",
    "            Time in units of Gyr ago (relative to present day)\n",
    "        \"\"\"\n",
    "        \n",
    "        # Observed redshift - today\n",
    "        zo = 0\n",
    "    \n",
    "        # define an array with redshifts, spaced in \n",
    "        #intervals of 0.001 from zo to ze\n",
    "        zrange = np.arange(zo, ze, 1e-3)\n",
    "        \n",
    "        \n",
    "        # Integrand\n",
    "        # y = (1/H(zrange)).to(GYR)  /  (1+zrange) \n",
    "        # --> this conversion also takes care of the km/Mpc issue\n",
    "        # But need to correct units of 1/H to be Gyr rather than seconds  \n",
    "        # use the astropy.units functionality .to(units)\n",
    "        y = (1.0/self.HubbleParameter(zrange)).to(u.Gyr)/(1+zrange)  \n",
    "        \n",
    "       \n",
    "        # Integrate y numerically over zrange and return in units of Gyr\n",
    "        # for whatever reason simps gets rid of the units so\n",
    "        # you have to add them back. \n",
    "        time = simps(y,zrange)*u.Gyr\n",
    "\n",
    "        return time\n",
    "    \n",
    "    \n",
    "    \n",
    "    def ComovingDistance(self, zo, ze):\n",
    "        \"\"\" Method that computes the Comoving Radial Distance to \n",
    "         an object at a given redshift.\n",
    "        i.e, Distance to a galaxy that is moving with the Hubble Flow\n",
    "        (expanding universe) at a given redshift\n",
    "            Dc = c*Int_z0^ze 1/H(z)\n",
    "\n",
    "        PARAMETERS\n",
    "        ----------\n",
    "        zo: `float`\n",
    "            Redshift of the observer\n",
    "            \n",
    "        ze: `float`\n",
    "            Redshift of the object emitting the photon\n",
    "            \n",
    "        RETURNS\n",
    "        -------\n",
    "        DC: `float`\n",
    "            Comoving Radial Distance (Mpc)\n",
    "        \"\"\"\n",
    "        \n",
    "        # define an array with redshifts, spaced  in intervals of 0.001\n",
    "        # Note that if you want redshifts smaller than \n",
    "        # 0.001 you'll need to refine this\n",
    "        zrange = np.arange(zo, ze, 1e-3)\n",
    "    \n",
    "        \n",
    "        # Integrand\n",
    "        # 1/H(zrange)*speed of light\n",
    "        # Speed of light is loaded in modules from astropy, \n",
    "        # but in units of m/s --> need in km/s\n",
    "        y = c.to(u.km/u.s)*(1.0/self.HubbleParameter(zrange))\n",
    "    \n",
    "        \n",
    "        # Integrate y numerically over zrange and return in units of Mpc\n",
    "        DC = simps(y,zrange)*u.Mpc\n",
    "        \n",
    "        return DC\n",
    "    \n",
    "        \n",
    "    def ProperDistance(self, zo, ze):\n",
    "        \"\"\" Method that returns the Proper Distance \n",
    "            to an object at some redshift (ze)\n",
    "            to an observer a given redshift (the distance \n",
    "            measured by a ruler).\n",
    "            This is the Horizon Distance.\n",
    "             R(tobs)*DC = DC/(1+zobs)\n",
    "            \n",
    "        PARAMETERS\n",
    "        ---------\n",
    "             \n",
    "        zo: `float`\n",
    "            Redshift of the observer\n",
    "            \n",
    "        ze: `float`\n",
    "            Redshift of the object emitting the photon\n",
    "            \n",
    "        RETURNS\n",
    "        -------\n",
    "        DH: `float`\n",
    "            Proper Distance (Mpc)\n",
    "        \"\"\"\n",
    "    \n",
    "        # Comoving Distance[ independent of time] x the scale factor at \n",
    "        # the time of observation.\n",
    "        DH = self.ComovingDistance(zo,ze)/(1+zo) \n",
    "        # if zo=0 then this is just the comoving distance\n",
    "        \n",
    "        return DH\n",
    "\n",
    "     \n",
    "    def LuminosityDistance(self, ze): \n",
    "        \"\"\" Method that computes the Luminosity Distance to an object \n",
    "        at some redshift (ze)\n",
    "               DL = DC*(1+z_emitted)\n",
    "            \n",
    "        PARAMETERS\n",
    "        --------- \n",
    "        ze: `float`\n",
    "            Redshift of the object emitting the photons\n",
    "            \n",
    "        RETURNS\n",
    "        -------\n",
    "        DL: `float`\n",
    "            Luminosity Distance (Mpc)\n",
    "        \"\"\"\n",
    "    \n",
    "        zo = 0 # This is a quantity computed by an observer at z=0\n",
    "        \n",
    "        DL = self.ComovingDistance(zo,ze)*(1+ze)\n",
    "        \n",
    "        return DL\n",
    "    \n",
    "    \n",
    "    def AngularDiameterDistance(self, ze): \n",
    "        \"\"\" Method that computes the Angular Diameter Distance to \n",
    "            an object at some redshift (ze)\n",
    "               DA = DC/(1+z_emitted)\n",
    "            DA is the distance to the source,  \n",
    "            such that it subtends the same angle \n",
    "            it would have in Euclidean Space\n",
    "\n",
    "            \n",
    "        PARAMETERS\n",
    "        --------- \n",
    "        ze: `float`\n",
    "            Redshift of the object emitting the photons\n",
    "            \n",
    "        RETURNS\n",
    "        -------\n",
    "        DA: `float`\n",
    "            Angular Diameter Distance (Mpc)\n",
    "        \"\"\"\n",
    "    \n",
    "        # this is an observable so\n",
    "        zo = 0\n",
    "        \n",
    "        # # FILL THIS IN\n",
    "        DA = self.ComovingDistance(zo,ze)/(1+ze)  \n",
    "    \n",
    "        return DA   \n",
    "    \n",
    "        \n",
    "    def Size(self, ze, angle):\n",
    "        \"\"\" Method to compute the physical distance corresponding to a given \n",
    "            angular separation at a given redshift\n",
    "            S = DA*angle\n",
    "        \n",
    "        PARAMETERS\n",
    "        --------- \n",
    "        ze: `float`\n",
    "            Redshift of the object emitting the photons\n",
    "            \n",
    "        angle: `float`\n",
    "            Angular separation or size (arcsec)\n",
    "            \n",
    "        RETURNS\n",
    "        -------\n",
    "        size: `float`\n",
    "            Physical Size of the Object or the \n",
    "            Separation between objects (kpc)\n",
    "        \"\"\"\n",
    "        \n",
    "        # convert angle from arcsec to radians\n",
    "        angleRad = (angle*u.arcsec).to(u.rad)\n",
    "    \n",
    "        #   DA*angleRad\n",
    "        size = self.AngularDiameterDistance(ze).to(u.kpc)*angleRad.value\n",
    "        # recall angular diameter distance is in Mpc\n",
    "        \n",
    "        return size\n",
    "    \n",
    "    \n",
    "    #######################\n",
    "    ## Lab 13  Starts here\n",
    "    ######################\n",
    "    \n",
    "    #  Part 1: Question 1 \n",
    "    def Temperature(self, z):\n",
    "        \"\"\" Method that computes the temperature of the universe as\n",
    "            a function of redshift\n",
    "            T = To(1+z)\n",
    "        \n",
    "        PARAMETERS\n",
    "        ----------\n",
    "        z: `float`\n",
    "            Redshift of interest\n",
    "            \n",
    "        RETURNS\n",
    "        -------\n",
    "        T: `float`\n",
    "            Temperature at that redshift in K\n",
    "        \n",
    "        \"\"\"\n",
    "  \n",
    "        # Temperature of the universe today \n",
    "        to = 2.73*u.K\n",
    "        T = to*(1+z)\n",
    "        # Fill this in \n",
    "        \n",
    "        return T\n",
    "\n",
    "    \n",
    "    # Part 3: Question 1\n",
    "    ## Fill this in \n",
    "    def SoundHorizon(self, ze, zlarge):\n",
    "        \"\"\" Method that computes the maximal distance that sound \n",
    "            can travel since the beginning of the universe\n",
    "        until the given epoch. \n",
    "            ProperDistance/sqrt(3)    (cs = c/sqrt(3))\n",
    "        \n",
    "        \n",
    "        PARAMETERS\n",
    "        ----------\n",
    "        ze:  `float`\n",
    "            Redshift of interest (usually redshift of recombination = 1100)\n",
    "        \n",
    "        zlarge: `float`\n",
    "            A large redshift to denote early age of the universe\n",
    "        \n",
    "        RETURNS\n",
    "        ------- \n",
    "        SH: `float`\n",
    "            Sound Horizon in Mpc\n",
    "        \n",
    "        \"\"\"\n",
    "      \n",
    "        # Fill this in\n",
    "    \n",
    "        SH = self.ProperDistance(ze,zlarge)/np.sqrt(3)\n",
    "        return SH\n",
    "    \n",
    "    \n",
    "    \n",
    "    \n",
    "    \n",
    "    \n",
    "    "
   ]
  },
  {
   "cell_type": "code",
   "execution_count": 148,
   "metadata": {},
   "outputs": [],
   "source": [
    "# Define the benchmark cosmology at z =0\n",
    "# Planck 2016 results. XIII. Cosmological parameters   \n",
    "# Planck Collaboration+2016 A&A 594 13  Table 4, column 2 \n",
    "\n",
    "OmegaM0_planck = 0.308   # Matter Density Parameter\n",
    "OmegaR0_planck = 8.24e-5  # Radiation Density Parameter\n",
    "OmegaL0_planck = 0.692  # Dark Energy Density Parameter\n",
    "h_planck = 0.6781   # Hubble Constant  100 h km/s/Mpc\n",
    "  "
   ]
  },
  {
   "cell_type": "code",
   "execution_count": 150,
   "metadata": {},
   "outputs": [],
   "source": [
    "# Define here an instance of the Class Cosmological Tools \n",
    "# that follows the Benchmark Cosmology\n",
    "BenchMark = CosmologicalTools(OmegaM0_planck, OmegaR0_planck, OmegaL0_planck, h_planck)"
   ]
  },
  {
   "cell_type": "code",
   "execution_count": 152,
   "metadata": {},
   "outputs": [],
   "source": [
    "# eignstien desitter\n",
    "OmegaMD = 1\n",
    "OmegaRD = 0\n",
    "OmegaLD = 0"
   ]
  },
  {
   "cell_type": "code",
   "execution_count": 154,
   "metadata": {},
   "outputs": [],
   "source": [
    "EDeSitter = CosmologicalTools(OmegaMD, OmegaRD, OmegaLD, h_planck)"
   ]
  },
  {
   "cell_type": "markdown",
   "metadata": {},
   "source": [
    "# Part 1, Question 2\n"
   ]
  },
  {
   "cell_type": "code",
   "execution_count": 157,
   "metadata": {},
   "outputs": [
    {
     "name": "stdout",
     "output_type": "stream",
     "text": [
      "  Name   = Boltzmann constant\n",
      "  Value  = 1.380649e-23\n",
      "  Uncertainty  = 0.0\n",
      "  Unit  = J / K\n",
      "  Reference = CODATA 2018\n"
     ]
    }
   ],
   "source": [
    "# Define k_B in EV/K \n",
    "print(k_B)"
   ]
  },
  {
   "cell_type": "code",
   "execution_count": 159,
   "metadata": {},
   "outputs": [
    {
     "name": "stdout",
     "output_type": "stream",
     "text": [
      "8.617333262145179e-05 eV / K\n"
     ]
    }
   ],
   "source": [
    "# Boltzmann constant in eV/K\n",
    "k_B_ev = k_B.to(u.electronvolt/u.K)\n",
    "print(k_B_ev)"
   ]
  },
  {
   "cell_type": "code",
   "execution_count": 161,
   "metadata": {},
   "outputs": [
    {
     "name": "stdout",
     "output_type": "stream",
     "text": [
      "52607.1488176937 K\n"
     ]
    }
   ],
   "source": [
    "#  What is the temperature needed to ionize a hydrogen atom (13.6eV)?\n",
    "# E =#kBT --> = E/3/kB\n",
    "T_Hydrogen  = 13.6*u.eV/3/k_B_ev\n",
    "print (T_Hydrogen)"
   ]
  },
  {
   "cell_type": "code",
   "execution_count": 163,
   "metadata": {},
   "outputs": [
    {
     "name": "stdout",
     "output_type": "stream",
     "text": [
      "3005.73 K\n"
     ]
    }
   ],
   "source": [
    "# How does this temperature compare to the temperature at the \n",
    "# redshift of Recombination (Z = 1100)? \n",
    "z_recombine = 1100\n",
    "\n",
    "T_recombine = BenchMark.Temperature(z_recombine)\n",
    "print(T_recombine)"
   ]
  },
  {
   "cell_type": "code",
   "execution_count": 165,
   "metadata": {},
   "outputs": [
    {
     "name": "stdout",
     "output_type": "stream",
     "text": [
      "54602.73 K\n"
     ]
    }
   ],
   "source": [
    "# At what redshift is the temperature sufficient to ionize hydrogen?\n",
    "z_guess = 20000\n",
    "print(BenchMark.Temperature(z_guess))"
   ]
  },
  {
   "cell_type": "code",
   "execution_count": 167,
   "metadata": {},
   "outputs": [],
   "source": [
    "# So why doesn't recombination occur then? - see lecture "
   ]
  },
  {
   "cell_type": "markdown",
   "metadata": {},
   "source": [
    "# Part 1, Question 3 \n",
    "Plot the temperature evolution of the universe as a function of 1+z"
   ]
  },
  {
   "cell_type": "code",
   "execution_count": 170,
   "metadata": {},
   "outputs": [
    {
     "data": {
      "image/png": "[encoded data removed]",
      "text/plain": [
       "<Figure size 1000x1000 with 1 Axes>"
      ]
     },
     "metadata": {},
     "output_type": "display_data"
    }
   ],
   "source": [
    "# Plot the Temperature Evolution as a Function of Redshift\n",
    "###############################################################################\n",
    "\n",
    "zmax = 21000\n",
    "zmin = 0.001\n",
    "zrange = np.arange(zmin, zmax, 0.5) \n",
    "\n",
    "\n",
    "fig = plt.figure(figsize=(10,10))\n",
    "ax = plt.subplot(111)\n",
    "\n",
    "\n",
    "# Temperature\n",
    "# FILL THIS IN\n",
    "\n",
    "plt.semilogy(zrange+1, BenchMark.Temperature(zrange), linewidth=5, label='BenchMark')\n",
    "plt.semilogy(zrange+1, EDeSitter.Temperature(zrange), linewidth=5, label='EDeSitter')\n",
    "# Add axis labels\n",
    "plt.xlabel('1+z', fontsize=22)\n",
    "plt.ylabel('Temperature (K)', fontsize=22)\n",
    "\n",
    "\n",
    "\n",
    "#adjust tick label font size\n",
    "label_size = 22\n",
    "matplotlib.rcParams['xtick.labelsize'] = label_size \n",
    "matplotlib.rcParams['ytick.labelsize'] = label_size\n",
    "\n",
    "legend = ax.legend(loc='upper left',fontsize=20)\n",
    "\n",
    "# Save to a file\n",
    "#plt.savefig('Lab13_Temperature.png')"
   ]
  },
  {
   "cell_type": "markdown",
   "metadata": {},
   "source": [
    "# Part 2, Question 1"
   ]
  },
  {
   "cell_type": "code",
   "execution_count": 173,
   "metadata": {},
   "outputs": [
    {
     "name": "stderr",
     "output_type": "stream",
     "text": [
      "C:\\Users\\colin\\AppData\\Local\\Temp\\ipykernel_49712\\486006162.py:208: DeprecationWarning: 'scipy.integrate.simps' is deprecated in favour of 'scipy.integrate.simpson' and will be removed in SciPy 1.14.0\n",
      "  DC = simps(y,zrange)*u.Mpc\n"
     ]
    },
    {
     "name": "stdout",
     "output_type": "stream",
     "text": [
      "0.23834279043769793 Mpc\n"
     ]
    }
   ],
   "source": [
    "# What is the size of the universe at the epoch of recombination?\n",
    "HorizonRecombine = BenchMark.ProperDistance(z_recombine,20000)\n",
    "print(HorizonRecombine)"
   ]
  },
  {
   "cell_type": "code",
   "execution_count": null,
   "metadata": {},
   "outputs": [],
   "source": []
  },
  {
   "cell_type": "code",
   "execution_count": 175,
   "metadata": {},
   "outputs": [
    {
     "name": "stderr",
     "output_type": "stream",
     "text": [
      "C:\\Users\\colin\\AppData\\Local\\Temp\\ipykernel_49712\\486006162.py:208: DeprecationWarning: 'scipy.integrate.simps' is deprecated in favour of 'scipy.integrate.simpson' and will be removed in SciPy 1.14.0\n",
      "  DC = simps(y,zrange)*u.Mpc\n"
     ]
    }
   ],
   "source": [
    "# What angle does the causally connected region of the \n",
    "# universe at z=1100 subtend on the sky today?\n",
    "\n",
    "# S = DA*theta\n",
    "# Theta = S/DA\n",
    "\n",
    "# S = 2*HorizonalRecombine\n",
    "Theta = 2*HorizonRecombine/BenchMark.AngularDiameterDistance(z_recombine)"
   ]
  },
  {
   "cell_type": "code",
   "execution_count": 178,
   "metadata": {},
   "outputs": [
    {
     "name": "stdout",
     "output_type": "stream",
     "text": [
      "2.1612531426129715 deg\n"
     ]
    }
   ],
   "source": [
    "print((Theta*u.rad).to(u.degree))"
   ]
  },
  {
   "cell_type": "code",
   "execution_count": 180,
   "metadata": {},
   "outputs": [
    {
     "data": {
      "text/latex": [
       "$13.96846 \\; \\mathrm{Gyr}$"
      ],
      "text/plain": [
       "<Quantity 13.96846031 Gyr>"
      ]
     },
     "execution_count": 180,
     "metadata": {},
     "output_type": "execute_result"
    }
   ],
   "source": [
    "1/(70*u.km/u.s/u.Mpc).to(1/u.Gyr)"
   ]
  },
  {
   "cell_type": "markdown",
   "metadata": {},
   "source": [
    "# Part 3, Question 2"
   ]
  },
  {
   "cell_type": "code",
   "execution_count": 183,
   "metadata": {},
   "outputs": [
    {
     "name": "stderr",
     "output_type": "stream",
     "text": [
      "C:\\Users\\colin\\AppData\\Local\\Temp\\ipykernel_49712\\486006162.py:208: DeprecationWarning: 'scipy.integrate.simps' is deprecated in favour of 'scipy.integrate.simpson' and will be removed in SciPy 1.14.0\n",
      "  DC = simps(y,zrange)*u.Mpc\n"
     ]
    },
    {
     "name": "stdout",
     "output_type": "stream",
     "text": [
      "0.13760727421861146 Mpc\n"
     ]
    }
   ],
   "source": [
    "# What is the sound horizon at the epoch of recombination\n",
    "# in the BenchMark Cosmology?\n",
    "\n",
    "SoundHorizon = BenchMark.SoundHorizon(z_recombine,20000)\n",
    "print(SoundHorizon)\n"
   ]
  },
  {
   "cell_type": "code",
   "execution_count": 187,
   "metadata": {},
   "outputs": [
    {
     "name": "stdout",
     "output_type": "stream",
     "text": [
      "151.5056089146912 Mpc\n"
     ]
    }
   ],
   "source": [
    "# What is the sound horizon TODAY in the BenchMark Cosmology?\n",
    "SoundHorizonToday = SoundHorizon*(1+z_recombine)\n",
    "print(SoundHorizonToday)"
   ]
  },
  {
   "cell_type": "code",
   "execution_count": 191,
   "metadata": {},
   "outputs": [
    {
     "name": "stderr",
     "output_type": "stream",
     "text": [
      "C:\\Users\\colin\\AppData\\Local\\Temp\\ipykernel_49712\\486006162.py:208: DeprecationWarning: 'scipy.integrate.simps' is deprecated in favour of 'scipy.integrate.simpson' and will be removed in SciPy 1.14.0\n",
      "  DC = simps(y,zrange)*u.Mpc\n"
     ]
    },
    {
     "name": "stdout",
     "output_type": "stream",
     "text": [
      "0.10695266343711388 Mpc\n"
     ]
    }
   ],
   "source": [
    "# What is the sound horizon at the epoch of recombination \n",
    "# in the Einstein DeSitter Cosmology?\n",
    "SoundHorizonED = EDeSitter.SoundHorizon(z_recombine,20000)\n",
    "print(SoundHorizonED)"
   ]
  },
  {
   "cell_type": "code",
   "execution_count": 193,
   "metadata": {},
   "outputs": [
    {
     "name": "stdout",
     "output_type": "stream",
     "text": [
      "117.75488244426238 Mpc\n"
     ]
    }
   ],
   "source": [
    "# What is the sound horizon TODAY \n",
    "# in the Einstein DeSitter Cosmology?\n",
    "SoundHorizonTodayED = SoundHorizonED*(1+z_recombine)\n",
    "print(SoundHorizonTodayED)"
   ]
  },
  {
   "cell_type": "markdown",
   "metadata": {},
   "source": [
    "## Part 3, Question 3 \n"
   ]
  },
  {
   "cell_type": "code",
   "execution_count": null,
   "metadata": {},
   "outputs": [],
   "source": [
    "# What is the angular size subtended by the Sound Horizon Diameter?\n",
    "\n",
    "ThetaSound = 2*SoundHorizon/BenchMark.AngularDiameterDistance"
   ]
  }
 ],
 "metadata": {
  "kernelspec": {
   "display_name": "Python 3 (ipykernel)",
   "language": "python",
   "name": "python3"
  },
  "language_info": {
   "codemirror_mode": {
    "name": "ipython",
    "version": 3
   },
   "file_extension": ".py",
   "mimetype": "text/x-python",
   "name": "python",
   "nbconvert_exporter": "python",
   "pygments_lexer": "ipython3",
   "version": "3.12.7"
  }
 },
 "nbformat": 4,
 "nbformat_minor": 4
}
