{
 "cells": [
  {
   "cell_type": "code",
   "execution_count": 1,
   "id": "fd81fb5a-6b32-4e10-9238-b56a2e84da3c",
   "metadata": {},
   "outputs": [],
   "source": [
    "import numpy as np\n",
    "import astropy.units as u\n",
    "from astropy.constants import G\n",
    "\n",
    "# import plotting modules\n",
    "import matplotlib\n",
    "import matplotlib.pyplot as plt\n",
    "from matplotlib.colors import LogNorm\n",
    "\n",
    "# my modules\n",
    "from ReadFile import Read\n",
    "from CenterOfMass import CenterOfMass\n",
    "#from MassProfile import MassProfile\n",
    "\n",
    "# for contours\n",
    "import scipy.optimize as so\n",
    "#phoutils isophote\n",
    "from Snap_RA_7 import dvectors, deriv, graph\n",
    "import os"
   ]
  },
  {
   "cell_type": "code",
   "execution_count": 2,
   "id": "6f409b00-bec8-4e67-bebd-6c38485ccbe3",
   "metadata": {},
   "outputs": [],
   "source": [
    "def create_graph2(filename,ptype):\n",
    "    \"\"\"\n",
    "    This function returns the position and velocity data of a galaxy snap for a specific particle type\n",
    "    after redifining the coordinate system to contain the center of mass of the galaxy at the origin point.\n",
    "    Inputs:\n",
    "        filename ('string'): the name of the file that we are taking data from\n",
    "        ptype ('int'): the type of particle that we are looking at\n",
    "    Outputs:\n",
    "        r ('np.ndarray'): a transposed array containing the distance vector of all particles of a specific type \n",
    "        relative to a galaxies center of mass\n",
    "        v ('np.ndarray'): a transposed array containing the velocity vector of all \n",
    "        particles of a specific type relative to a galaxies center of mass velocity\n",
    "    \"\"\"\n",
    "    # Computes the center of mass and center of mass moton of the galaxy\n",
    "    COMD = CenterOfMass(filename,ptype)\n",
    "    COMP = COMD.COM_P(0.1)\n",
    "    COMV = COMD.COM_V(COMP[0],COMP[1],COMP[2])\n",
    "    # Determines the positions of disk particles relative to COM \n",
    "    xD = COMD.x - COMP[0].value \n",
    "    yD = COMD.y - COMP[1].value \n",
    "    zD = COMD.z - COMP[2].value \n",
    "\n",
    "    # Determines the velocities of disk particles relatiev to COM motion\n",
    "    vxD = COMD.vx - COMV[0].value \n",
    "    vyD = COMD.vy - COMV[1].value \n",
    "    vzD = COMD.vz - COMV[2].value \n",
    "\n",
    "\n",
    "    # gets transposed arrays for the vector location of each particle relative to the center of mass\n",
    "    r = np.array([xD,yD,zD]).T # transposed \n",
    "    # gets transposed arrays for the vector velocity of each particle relative to the center of mass velocity\n",
    "    v = np.array([vxD,vyD,vzD]).T\n",
    "    return r,v"
   ]
  },
  {
   "cell_type": "code",
   "execution_count": 3,
   "id": "f0005cb7-fbff-49d8-9238-272d010fdea6",
   "metadata": {},
   "outputs": [
    {
     "name": "stdout",
     "output_type": "stream",
     "text": [
      "M33\\M33_505.txt\n"
     ]
    }
   ],
   "source": [
    "filename = os.path.join('M33','M33_505.txt')\n",
    "print(filename)"
   ]
  },
  {
   "cell_type": "code",
   "execution_count": 4,
   "id": "8b4676e7-164c-483c-8bac-bf20000d1fe6",
   "metadata": {},
   "outputs": [
    {
     "name": "stdout",
     "output_type": "stream",
     "text": [
      "4957\n",
      "4842\n",
      "4007\n",
      "2426\n",
      "1535\n",
      "395\n",
      "90\n",
      "16\n"
     ]
    }
   ],
   "source": [
    "r,v = create_graph2(filename,1)"
   ]
  },
  {
   "cell_type": "code",
   "execution_count": 39,
   "id": "ff918fdb-add2-42f3-a21f-0f79765a373e",
   "metadata": {},
   "outputs": [],
   "source": [
    "rindex = np.where(np.sqrt(r[:,0:1]**2+r[:,1:2]**2+r[:,2:3]**2)<20)"
   ]
  },
  {
   "cell_type": "code",
   "execution_count": 41,
   "id": "4e056bca-b097-4601-9a52-b8e8ae0bb481",
   "metadata": {},
   "outputs": [
    {
     "name": "stdout",
     "output_type": "stream",
     "text": [
      "[[ 7.66624e+02 -4.53074e+02  2.61885e+02]\n",
      " [ 1.04542e+03 -1.49052e+01  7.05695e+02]\n",
      " [-2.28903e+01  6.92680e+01 -4.52851e+01]\n",
      " ...\n",
      " [ 3.73625e+02  2.72840e+01  2.03987e+03]\n",
      " [-1.96292e+02 -3.14248e+02 -2.17319e+02]\n",
      " [ 5.98240e+00  9.32650e+01 -1.57060e+00]]\n"
     ]
    }
   ],
   "source": [
    "print(r)"
   ]
  },
  {
   "cell_type": "code",
   "execution_count": 43,
   "id": "bd6bf3c6-a9ad-46b8-8a79-3ed6f70087bc",
   "metadata": {},
   "outputs": [
    {
     "name": "stdout",
     "output_type": "stream",
     "text": [
      "[-10.5273 -15.2717   9.068   -3.8847   2.6151  -5.6571 -15.6097  -7.9726\n",
      "  -0.7222  -6.178   14.196    1.5743]\n"
     ]
    }
   ],
   "source": [
    "print(r[rindex])"
   ]
  },
  {
   "cell_type": "code",
   "execution_count": 31,
   "id": "a31e33c3-129d-4897-a7d8-3e58e15a529a",
   "metadata": {},
   "outputs": [
    {
     "name": "stdout",
     "output_type": "stream",
     "text": [
      "21\n"
     ]
    }
   ],
   "source": [
    "print(len(r[rindex]))"
   ]
  },
  {
   "cell_type": "code",
   "execution_count": 11,
   "id": "456d8850-a5ca-4f38-9fe5-fff15a5bc5cf",
   "metadata": {},
   "outputs": [],
   "source": [
    "def RotateFrame(posI,velI):\n",
    "    \"\"\"a function that rotates the position and velocity vectors\n",
    "    so that the disk angular momentum is aligned with z axis. \n",
    "    \n",
    "    PARAMETERS\n",
    "    ----------\n",
    "        posI : `array of floats`\n",
    "             3D array of positions (x,y,z)\n",
    "        velI : `array of floats`\n",
    "             3D array of velocities (vx,vy,vz)\n",
    "             \n",
    "    RETURNS\n",
    "    -------\n",
    "        pos: `array of floats`\n",
    "            rotated 3D array of positions (x,y,z) \n",
    "            such that disk is in the XY plane\n",
    "        vel: `array of floats`\n",
    "            rotated 3D array of velocities (vx,vy,vz) \n",
    "            such that disk angular momentum vector\n",
    "            is in the +z direction \n",
    "    \"\"\"\n",
    "    \n",
    "    # computes the angular momentum\n",
    "    L = np.sum(np.cross(posI,velI), axis=0)\n",
    "    \n",
    "    # normalizes the angular momentum vector\n",
    "    L_norm = L/np.sqrt(np.sum(L**2))\n",
    "    \n",
    "    # z unit vector\n",
    "    z_norm = np.array([0, 0, 1])\n",
    "    \n",
    "    # cross product between L and z\n",
    "    vv = np.cross(L_norm, z_norm)\n",
    "    s = np.sqrt(np.sum(vv**2))\n",
    "    \n",
    "    # dot product between L and z \n",
    "    c = np.dot(L_norm, z_norm)\n",
    "    \n",
    "    # rotation matrix\n",
    "    I = np.array([[1, 0, 0], [0, 1, 0], [0, 0, 1]])\n",
    "    v_x = np.array([[0, -vv[2], vv[1]], [vv[2], 0, -vv[0]], [-vv[1], vv[0], 0]])\n",
    "    R = I + v_x + np.dot(v_x, v_x)*(1 - c)/s**2\n",
    "\n",
    "    # Rotate coordinate system\n",
    "    pos = np.dot(R, posI.T).T\n",
    "    vel = np.dot(R, velI.T).T\n",
    "    \n",
    "    return pos, vel\n"
   ]
  }
 ],
 "metadata": {
  "kernelspec": {
   "display_name": "Python 3 (ipykernel)",
   "language": "python",
   "name": "python3"
  },
  "language_info": {
   "codemirror_mode": {
    "name": "ipython",
    "version": 3
   },
   "file_extension": ".py",
   "mimetype": "text/x-python",
   "name": "python",
   "nbconvert_exporter": "python",
   "pygments_lexer": "ipython3",
   "version": "3.12.7"
  }
 },
 "nbformat": 4,
 "nbformat_minor": 5
}
