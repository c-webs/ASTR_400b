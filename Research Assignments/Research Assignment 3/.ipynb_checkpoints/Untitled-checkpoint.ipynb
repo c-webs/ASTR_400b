{
 "cells": [
  {
   "cell_type": "code",
   "execution_count": null,
   "id": "bd019b0b-abbf-43ff-b91e-0c1c77e38280",
   "metadata": {},
   "outputs": [],
   "source": []
  }
 ],
 "metadata": {
  "kernelspec": {
   "display_name": "",
   "name": ""
  },
  "language_info": {
   "name": ""
  }
 },
 "nbformat": 4,
 "nbformat_minor": 5
}
