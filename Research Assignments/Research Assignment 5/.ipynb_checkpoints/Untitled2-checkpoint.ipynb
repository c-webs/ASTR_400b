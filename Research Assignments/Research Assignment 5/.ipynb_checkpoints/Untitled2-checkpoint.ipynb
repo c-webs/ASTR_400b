{
 "cells": [
  {
   "cell_type": "code",
   "execution_count": null,
   "id": "fd81fb5a-6b32-4e10-9238-b56a2e84da3c",
   "metadata": {},
   "outputs": [],
   "source": []
  }
 ],
 "metadata": {
  "kernelspec": {
   "display_name": "",
   "name": ""
  },
  "language_info": {
   "name": ""
  }
 },
 "nbformat": 4,
 "nbformat_minor": 5
}
