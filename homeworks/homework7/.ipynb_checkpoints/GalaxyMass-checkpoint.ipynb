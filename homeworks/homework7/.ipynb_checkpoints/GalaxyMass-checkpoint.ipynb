{
 "cells": [
  {
   "cell_type": "code",
   "execution_count": 503,
   "id": "a23e5dac-e181-49bb-a5a4-1699ff08033e",
   "metadata": {},
   "outputs": [],
   "source": [
    "import numpy as np\n",
    "import astropy.units as u\n",
    "from ReadFile import Read"
   ]
  },
  {
   "cell_type": "code",
   "execution_count": 565,
   "id": "9cbb8dc4-cc74-4690-b3c3-878b1d04719d",
   "metadata": {},
   "outputs": [],
   "source": [
    "def ComponentMass(PType,filename):\n",
    "    \"\"\"\n",
    "    This function sums togeter the total value of a particle type in a galaxy\n",
    "    Inputs:\n",
    "        PType: The type of particle that this is\n",
    "        filename: The file that we are extracting the data from\n",
    "    Outputs:\n",
    "        M_tot: the total mass of a type of particle in a galaxy\n",
    "    \"\"\"\n",
    "    M_tot = 0\n",
    "    time, particles, data = Read(filename)\n",
    "    index = np.where(data['type'] == PType)\n",
    "    mnew = data['m'][index]*1e10*u.Msun\n",
    "    for Mass in mnew:\n",
    "        M_tot = M_tot + Mass\n",
    "    if M_tot != 0:\n",
    "        M_tot = M_tot.to(1e12*u.Msun)\n",
    "    return np.round(M_tot,3)\n",
    "    # Use a for loop to add to each one as we go through the particles in each galaxy"
   ]
  },
  {
   "cell_type": "code",
   "execution_count": 567,
   "id": "c0a742ee-20ca-45d0-8b17-23e4c9845c1a",
   "metadata": {},
   "outputs": [],
   "source": [
    "\n"
   ]
  },
  {
   "cell_type": "code",
   "execution_count": 569,
   "id": "42c2adc4-76c5-4335-b6e5-33bf5a34e195",
   "metadata": {},
   "outputs": [],
   "source": [
    "def mtable(tablet):\n",
    "    files = [\"MW_000.txt\",\"M31_000.txt\",\"M33_000.txt\"]\n",
    "    for i in range(len(tablet)):\n",
    "        for k in range(len(tablet[i])):\n",
    "            if ComponentMass(i,files[k-1]) != 0:\n",
    "                tablet[i][k] = ComponentMass(i,files[k-1]).value\n",
    "            if ComponentMass(i,files[k-1]) == 0:\n",
    "                tablet[i][k] = ComponentMass(i,files[k-1])\n",
    "    return tablet\n",
    "    "
   ]
  },
  {
   "cell_type": "code",
   "execution_count": 571,
   "id": "0b65d6fd-a995-43c4-a8fe-c8c4e47eec5c",
   "metadata": {},
   "outputs": [],
   "source": [
    "# This sets up the table used for the mtable function\n",
    "table2 = [[\"\",\"\",\"\",\"\"],\n",
    "        [\"\",\"\",\"\",\"\"],\n",
    "        [\"\",\"\",\"\",\"\"],\n",
    "          [\"\",\"\",\"\",\"\"]]\n",
    "#Prints the final function\n",
    "#Takes awhile to run (about a minute), but it does work\n",
    "final_table = mtable(table2)\n",
    "#print(final_table)"
   ]
  },
  {
   "cell_type": "code",
   "execution_count": 572,
   "id": "16746a19-30f4-4814-a34e-c745484934e4",
   "metadata": {},
   "outputs": [],
   "source": [
    "del final_table[0] # gets ride of first row that is just zeros\n",
    "for i in range(len(final_table)): # gets ride of the extra column\n",
    "    if len(final_table[i]) >=3:\n",
    "        del final_table[i][0]\n",
    "# List of what needs to be the first column\n",
    "galaxy_mass_type = [\"Halo Mass (1e12 Msun)\",\"Disk Mass (1e12 Msun)\",\"Bulge Mass (1e12 Msun)\"] \n",
    "galaxy_names = [\"Galaxy Name\",\"MW\",\"M31\",\"M33\"] # List of galaxt names that will be the top row\n",
    "for i in range(len(final_table)):\n",
    "    final_table[i-1].insert(0,galaxy_mass_type[i-1]) # inserts first column\n",
    "final_table.insert(0,galaxy_names) # inserts first row\n"
   ]
  },
  {
   "cell_type": "code",
   "execution_count": 573,
   "id": "9d8fc1a8-bd33-4471-8dbd-13882b6d9445",
   "metadata": {},
   "outputs": [],
   "source": [
    "# Next 4 lines create the row of the total mass for each galaxy\n",
    "totals = [\"Total (1e12 Msun)\",\"\",\"\",\"\"]\n",
    "totals[1] = final_table[1][1] + final_table[2][1] + final_table[3][1]\n",
    "totals[2] = final_table[1][2] + final_table[2][2] + final_table[3][2]\n",
    "totals[3] = final_table[1][3] + final_table[2][3] + final_table[3][3]\n",
    "final_table.append(totals) # adds this row to the table\n",
    "Local = [\"Local Mass (1e12 Msun)\",sum(totals[1:3])] # Next row is total local mass\n",
    "final_table.append(Local) # Adds the row with total local mass\n",
    "\n"
   ]
  },
  {
   "cell_type": "code",
   "execution_count": 574,
   "id": "d24d570a-05a2-463e-9dc7-1763b4b77b3d",
   "metadata": {},
   "outputs": [
    {
     "name": "stdout",
     "output_type": "stream",
     "text": [
      "[['Galaxy Name', 'MW', 'M31', 'M33'], ['Halo Mass (1e12 Msun)', 1.975, 1.921, 0.187], ['Disk Mass (1e12 Msun)', 0.075, 0.12, 0.009], ['Bulge Mass (1e12 Msun)', 0.01, 0.019, 0], ['Total (1e12 Msun)', 2.06, 2.06, 0.196], ['Local Mass (1e12 Msun)', 4.12], ['f_bar', 0.041, 0.067, 0.046]]\n"
     ]
    }
   ],
   "source": [
    "# calculates F_bar values for each galaxy\n",
    "f_bar_MW = (final_table[2][1] + final_table[3][1])/totals[1]\n",
    "f_bar_M31 = (final_table[2][2] + final_table[3][2])/totals[2]\n",
    "f_bar_M33 = (final_table[2][3] + final_table[3][3])/totals[3]\n",
    "# puts the different f_bar values into a list\n",
    "F_bar = [\"f_bar\",np.round(f_bar_MW,3),np.round(f_bar_M31,3),np.round(f_bar_M33,3)]\n",
    "# adds F_bar to the table\n",
    "final_table.append(F_bar)\n",
    "# Print final_table\n",
    "print(final_table)"
   ]
  },
  {
   "cell_type": "code",
   "execution_count": 575,
   "id": "3eb299ca-ed90-49da-8a2e-6561556cafd0",
   "metadata": {},
   "outputs": [],
   "source": [
    "# download final table\n",
    "import pandas as pd\n",
    "f = final_table"
   ]
  },
  {
   "cell_type": "code",
   "execution_count": 576,
   "id": "32f86b60-c650-4300-8642-f99285a2fbc5",
   "metadata": {},
   "outputs": [
    {
     "name": "stdout",
     "output_type": "stream",
     "text": [
      "              Galaxy Name     MW    M31    M33\n",
      "0   Halo Mass (1e12 Msun)  1.975  1.921  0.187\n",
      "1   Disk Mass (1e12 Msun)  0.075  0.120  0.009\n",
      "2  Bulge Mass (1e12 Msun)  0.010  0.019  0.000\n",
      "3       Total (1e12 Msun)  2.060  2.060  0.196\n",
      "4  Local Mass (1e12 Msun)  4.120    NaN    NaN\n",
      "5                   f_bar  0.041  0.067  0.046\n"
     ]
    }
   ],
   "source": [
    "# This makes the data much nicer looking \n",
    "df=pd.DataFrame(f[1:], columns = f[0])\n",
    "print (df)"
   ]
  },
  {
   "cell_type": "code",
   "execution_count": 583,
   "id": "1a90d9fa-82ea-4312-aecd-a9f8472ba50c",
   "metadata": {},
   "outputs": [
    {
     "name": "stdout",
     "output_type": "stream",
     "text": [
      "Requirement already satisfied: pandas in c:\\users\\colin\\anac\\lib\\site-packages (2.2.2)\n",
      "Collecting reportlab\n",
      "  Downloading reportlab-4.3.0-py3-none-any.whl.metadata (1.5 kB)\n",
      "Requirement already satisfied: numpy>=1.26.0 in c:\\users\\colin\\anac\\lib\\site-packages (from pandas) (1.26.4)\n",
      "Requirement already satisfied: python-dateutil>=2.8.2 in c:\\users\\colin\\anac\\lib\\site-packages (from pandas) (2.9.0.post0)\n",
      "Requirement already satisfied: pytz>=2020.1 in c:\\users\\colin\\anac\\lib\\site-packages (from pandas) (2024.1)\n",
      "Requirement already satisfied: tzdata>=2022.7 in c:\\users\\colin\\anac\\lib\\site-packages (from pandas) (2023.3)\n",
      "Requirement already satisfied: pillow>=9.0.0 in c:\\users\\colin\\anac\\lib\\site-packages (from reportlab) (10.4.0)\n",
      "Requirement already satisfied: chardet in c:\\users\\colin\\anac\\lib\\site-packages (from reportlab) (4.0.0)\n",
      "Requirement already satisfied: six>=1.5 in c:\\users\\colin\\anac\\lib\\site-packages (from python-dateutil>=2.8.2->pandas) (1.16.0)\n",
      "Downloading reportlab-4.3.0-py3-none-any.whl (1.9 MB)\n",
      "   ---------------------------------------- 0.0/1.9 MB ? eta -:--:--\n",
      "   ---------------------------------------- 1.9/1.9 MB 12.0 MB/s eta 0:00:00\n",
      "Installing collected packages: reportlab\n",
      "Successfully installed reportlab-4.3.0\n",
      "Note: you may need to restart the kernel to use updated packages.\n"
     ]
    }
   ],
   "source": [
    "pip install pandas reportlab"
   ]
  },
  {
   "cell_type": "code",
   "execution_count": 585,
   "id": "c3824929-d440-4cc8-a40f-0a75e81f9c08",
   "metadata": {},
   "outputs": [],
   "source": [
    "import pandas as pd\n",
    "from reportlab.lib.pagesizes import letter\n",
    "from reportlab.platypus import SimpleDocTemplate, Table, TableStyle\n",
    "from reportlab.lib import colors"
   ]
  },
  {
   "cell_type": "code",
   "execution_count": 587,
   "id": "54782ed1-be25-490a-8cfc-6ee71609fd99",
   "metadata": {},
   "outputs": [],
   "source": [
    "pdf_filename = \"table.pdf\"\n",
    "pdf = SimpleDocTemplate(pdf_filename, pagesize=letter)\n",
    "table = Table([df.columns.tolist()] + df.values.tolist())\n",
    "pdf.build([table])\n"
   ]
  },
  {
   "cell_type": "code",
   "execution_count": null,
   "id": "fbd6074a-cddc-4330-b35d-592d18e5b0ea",
   "metadata": {},
   "outputs": [],
   "source": []
  }
 ],
 "metadata": {
  "kernelspec": {
   "display_name": "Python 3 (ipykernel)",
   "language": "python",
   "name": "python3"
  },
  "language_info": {
   "codemirror_mode": {
    "name": "ipython",
    "version": 3
   },
   "file_extension": ".py",
   "mimetype": "text/x-python",
   "name": "python",
   "nbconvert_exporter": "python",
   "pygments_lexer": "ipython3",
   "version": "3.12.7"
  }
 },
 "nbformat": 4,
 "nbformat_minor": 5
}
