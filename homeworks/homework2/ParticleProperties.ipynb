{
 "cells": [
  {
   "cell_type": "code",
   "execution_count": 24,
   "id": "c7f2cbe2-5542-4a07-9271-533dfb60a8d9",
   "metadata": {},
   "outputs": [
    {
     "ename": "FileNotFoundError",
     "evalue": "[Errno 2] No such file or directory: 'MW_000.txt'",
     "output_type": "error",
     "traceback": [
      "\u001b[1;31m---------------------------------------------------------------------------\u001b[0m",
      "\u001b[1;31mFileNotFoundError\u001b[0m                         Traceback (most recent call last)",
      "Cell \u001b[1;32mIn[24], line 3\u001b[0m\n\u001b[0;32m      1\u001b[0m \u001b[38;5;28;01mimport\u001b[39;00m \u001b[38;5;21;01mnumpy\u001b[39;00m \u001b[38;5;28;01mas\u001b[39;00m \u001b[38;5;21;01mnp\u001b[39;00m\n\u001b[0;32m      2\u001b[0m \u001b[38;5;28;01mimport\u001b[39;00m \u001b[38;5;21;01mastropy\u001b[39;00m\u001b[38;5;21;01m.\u001b[39;00m\u001b[38;5;21;01munits\u001b[39;00m \u001b[38;5;28;01mas\u001b[39;00m \u001b[38;5;21;01mu\u001b[39;00m\n\u001b[1;32m----> 3\u001b[0m \u001b[38;5;28;01mfrom\u001b[39;00m \u001b[38;5;21;01mReadFile\u001b[39;00m \u001b[38;5;28;01mimport\u001b[39;00m Read\n",
      "File \u001b[1;32m~\\OneDrive\\Desktop\\ASTR400B\\ASTR_400b\\homeworks\\homework2\\ReadFile.py:37\u001b[0m\n\u001b[0;32m     30\u001b[0m     \u001b[38;5;28;01mreturn\u001b[39;00m time, particles, data\n\u001b[0;32m     34\u001b[0m \u001b[38;5;66;03m# In[103]:\u001b[39;00m\n\u001b[1;32m---> 37\u001b[0m value,particles , data \u001b[38;5;241m=\u001b[39m Read(\u001b[38;5;124m\"\u001b[39m\u001b[38;5;124mMW_000.txt\u001b[39m\u001b[38;5;124m\"\u001b[39m)\n\u001b[0;32m     38\u001b[0m \u001b[38;5;66;03m# Allows us to return the different variables of Read as a tuple\u001b[39;00m\n\u001b[0;32m     39\u001b[0m \u001b[38;5;28mprint\u001b[39m(value)\n",
      "File \u001b[1;32m~\\OneDrive\\Desktop\\ASTR400B\\ASTR_400b\\homeworks\\homework2\\ReadFile.py:16\u001b[0m, in \u001b[0;36mRead\u001b[1;34m(filename)\u001b[0m\n\u001b[0;32m     15\u001b[0m \u001b[38;5;28;01mdef\u001b[39;00m \u001b[38;5;21mRead\u001b[39m(filename):\n\u001b[1;32m---> 16\u001b[0m     file \u001b[38;5;241m=\u001b[39m \u001b[38;5;28mopen\u001b[39m(filename,\u001b[38;5;124m'\u001b[39m\u001b[38;5;124mr\u001b[39m\u001b[38;5;124m'\u001b[39m)\n\u001b[0;32m     17\u001b[0m     line1 \u001b[38;5;241m=\u001b[39m file\u001b[38;5;241m.\u001b[39mreadline()\n\u001b[0;32m     18\u001b[0m     label,value \u001b[38;5;241m=\u001b[39m line1\u001b[38;5;241m.\u001b[39msplit()\n",
      "\u001b[1;31mFileNotFoundError\u001b[0m: [Errno 2] No such file or directory: 'MW_000.txt'"
     ]
    }
   ],
   "source": [
    "import numpy as np\n",
    "import astropy.units as u\n",
    "from ReadFile import Read"
   ]
  },
  {
   "cell_type": "code",
   "execution_count": 18,
   "id": "be7a484d-ff0d-4b5f-8458-648875e91aaa",
   "metadata": {},
   "outputs": [],
   "source": [
    "def ParticleInfo (PType, PNum, filename):\n",
    "    \"\"\" This function takes a filename, particle type, and particle number and outputs\n",
    "    its mass, its velocity, and its position\"\"\"\n",
    "    #file = open(filename,'r')\n",
    "    time, total, data = Read(filename)\n",
    "    index = np.where(data['type'] == PType)\n",
    "\n",
    "    mnew = data['m'][index]*1e10*u.Msun\n",
    "    xnew = data['x'][index]*u.kpc\n",
    "    ynew = data['y'][index]*u.kpc\n",
    "    znew = data['z'][index]*u.kpc\n",
    "    vxnew = data['vx'][index]*u.km/u.s\n",
    "    vynew = data['vy'][index]*u.km/u.s\n",
    "    vznew = data['vz'][index]*u.km/u.s\n",
    "\n",
    "    R3D = np.round(np.sqrt(xnew[PNum-1]**2 + ynew[PNum-1]**2 + znew[PNum-1]**2),3)\n",
    "\n",
    "    V3D = np.round(np.sqrt(vxnew[PNum-1]**2 + vynew[PNum-1]**2 + vznew[PNum-1]**2),3)\n",
    "\n",
    "    Mass = np.round(mnew[PNum-1],3)\n",
    "        \n",
    "    return R3D, V3D, Mass\n",
    "    # This is the initial\n",
    "    \"\"\"\n",
    "    particle_types = {\"Halo\": 1, \"Disk Star\": 2, \"Bulge Star\": 3} # Assigns each number to its proper type\n",
    "    particle_type_id = particle_types.get(particle_type)\n",
    "    data = np.array(data.tolist()) # makes the data into a 2D array so the next line works\n",
    "    subset = data[data[:, 0] == particle_type_id] #filters the correct paticle type\n",
    "    particle = subset[particle_number-1] # filters out the correct particle number and accounts for indexing\n",
    "    x, y, z = particle[2:5] # This assigns the x, y, and z variables to their columns\n",
    "    vx, vy, vz = particle [5:8] # This assigns the vx, vy, and vz variables to their columns\n",
    "    mass = particle[1] # assigns mass variable to its row\n",
    "    distance = np.around(np.sqrt(x**2+y**2+z**2),3) # this is the equation to get 3D distance. Also rounds to 3 decimals\n",
    "    velocity = np.around(np.sqrt(vx**2+vx**2+vx**2),3) # this is the equation to get 3D velocity. Also rounds to 3 decimals\n",
    "    mass = np.around(mass, 3) # rounds mass to 3 decimals\n",
    "    return distance, velocity, mass # returns the distance velocity and mass of the particle\n",
    "    \"\"\"\n"
   ]
  },
  {
   "cell_type": "code",
   "execution_count": 79,
   "id": "0efc370b-6dda-4427-8d48-1619cb41d849",
   "metadata": {},
   "outputs": [
    {
     "name": "stdout",
     "output_type": "stream",
     "text": [
      "(792.637, 121.337, 0.004)\n"
     ]
    }
   ],
   "source": [
    "print(ParticleInfo(\"MW_000.txt\",\"Halo\",100)) # This are the values of the 100th particle"
   ]
  },
  {
   "cell_type": "code",
   "execution_count": 20,
   "id": "844e0849-12af-42c9-bf62-368721af00f8",
   "metadata": {},
   "outputs": [
    {
     "ename": "NameError",
     "evalue": "name 'Read' is not defined",
     "output_type": "error",
     "traceback": [
      "\u001b[1;31m---------------------------------------------------------------------------\u001b[0m",
      "\u001b[1;31mNameError\u001b[0m                                 Traceback (most recent call last)",
      "Cell \u001b[1;32mIn[20], line 1\u001b[0m\n\u001b[1;32m----> 1\u001b[0m R3D, V3D, Mass \u001b[38;5;241m=\u001b[39m ParticleInfo(\u001b[38;5;241m2\u001b[39m,\u001b[38;5;241m100\u001b[39m,\u001b[38;5;124m\"\u001b[39m\u001b[38;5;124mMW_000.txt\u001b[39m\u001b[38;5;124m\"\u001b[39m)\n\u001b[0;32m      2\u001b[0m \u001b[38;5;28mprint\u001b[39m(\u001b[38;5;124m\"\u001b[39m\u001b[38;5;124mMagnitude of the distance of the 100th particle is\u001b[39m\u001b[38;5;124m\"\u001b[39m,R3D)\n",
      "Cell \u001b[1;32mIn[18], line 5\u001b[0m, in \u001b[0;36mParticleInfo\u001b[1;34m(PType, PNum, filename)\u001b[0m\n\u001b[0;32m      2\u001b[0m \u001b[38;5;250m\u001b[39m\u001b[38;5;124;03m\"\"\" This function takes a filename, particle type, and particle number and outputs\u001b[39;00m\n\u001b[0;32m      3\u001b[0m \u001b[38;5;124;03mits mass, its velocity, and its position\"\"\"\u001b[39;00m\n\u001b[0;32m      4\u001b[0m \u001b[38;5;66;03m#file = open(filename,'r')\u001b[39;00m\n\u001b[1;32m----> 5\u001b[0m time, total, data \u001b[38;5;241m=\u001b[39m Read(filename)\n\u001b[0;32m      6\u001b[0m index \u001b[38;5;241m=\u001b[39m np\u001b[38;5;241m.\u001b[39mwhere(data[\u001b[38;5;124m'\u001b[39m\u001b[38;5;124mtype\u001b[39m\u001b[38;5;124m'\u001b[39m] \u001b[38;5;241m==\u001b[39m PType)\n\u001b[0;32m      8\u001b[0m mnew \u001b[38;5;241m=\u001b[39m data[\u001b[38;5;124m'\u001b[39m\u001b[38;5;124mm\u001b[39m\u001b[38;5;124m'\u001b[39m][index]\u001b[38;5;241m*\u001b[39m\u001b[38;5;241m1e10\u001b[39m\u001b[38;5;241m*\u001b[39mu\u001b[38;5;241m.\u001b[39mMsun\n",
      "\u001b[1;31mNameError\u001b[0m: name 'Read' is not defined"
     ]
    }
   ],
   "source": [
    "R3D, V3D, Mass = ParticleInfo(2,100,\"MW_000.txt\")\n",
    "print(\"Magnitude of the distance of the 100th particle is\",R3D)"
   ]
  },
  {
   "cell_type": "code",
   "execution_count": null,
   "id": "7909cf51-49cb-4309-ab4c-3d021eaf395b",
   "metadata": {},
   "outputs": [],
   "source": [
    "print(\"Magnitude of the velocity of the 100th particle is\",V3D)"
   ]
  },
  {
   "cell_type": "code",
   "execution_count": null,
   "id": "61c5719c-be0d-4296-a103-8e216b66ffd2",
   "metadata": {},
   "outputs": [],
   "source": [
    "print(\"Mass of the 100th particle is\", Mass)"
   ]
  },
  {
   "cell_type": "code",
   "execution_count": null,
   "id": "cbe01a0d-6b5c-4cd8-92c0-b239156a7958",
   "metadata": {},
   "outputs": [],
   "source": [
    "print(\"Distance of the 100th particle in lightyears is\", np.round(R3D.to(u.lyr),3))"
   ]
  },
  {
   "cell_type": "code",
   "execution_count": null,
   "id": "cabd1ef9-b02c-43f3-99b0-9ca8d588753d",
   "metadata": {},
   "outputs": [],
   "source": []
  }
 ],
 "metadata": {
  "kernelspec": {
   "display_name": "Python 3 (ipykernel)",
   "language": "python",
   "name": "python3"
  },
  "language_info": {
   "codemirror_mode": {
    "name": "ipython",
    "version": 3
   },
   "file_extension": ".py",
   "mimetype": "text/x-python",
   "name": "python",
   "nbconvert_exporter": "python",
   "pygments_lexer": "ipython3",
   "version": "3.12.7"
  }
 },
 "nbformat": 4,
 "nbformat_minor": 5
}
