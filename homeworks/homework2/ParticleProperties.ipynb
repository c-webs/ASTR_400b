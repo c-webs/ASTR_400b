{
 "cells": [
  {
   "cell_type": "code",
   "execution_count": 7,
   "id": "c7f2cbe2-5542-4a07-9271-533dfb60a8d9",
   "metadata": {},
   "outputs": [],
   "source": [
    "import numpy as np\n",
    "import astropy.units as u\n",
    "from ReadFile import Read"
   ]
  },
  {
   "cell_type": "code",
   "execution_count": 75,
   "id": "be7a484d-ff0d-4b5f-8458-648875e91aaa",
   "metadata": {},
   "outputs": [],
   "source": [
    "def ParticleInfo (filename, particle_type, particle_number):\n",
    "    \"\"\" This function takes a filename, particle type, and particle number and outputs\n",
    "    its mass, its velocity, and its position\"\"\"\n",
    "    #file = open(filename,'r')\n",
    "    time, total_particles, data = Read(filename)\n",
    "    particle_types = {\"Halo\": 1, \"Disk Star\": 2, \"Bulge Star\": 3} # Assigns each number to its proper type\n",
    "    particle_type_id = particle_types.get(particle_type)\n",
    "    data = np.array(data.tolist()) # makes the data into a 2D array so the next line works\n",
    "    subset = data[data[:, 0] == particle_type_id] #filters the correct paticle type\n",
    "    particle = subset[particle_number-1] # filters out the correct particle number and accounts for indexing\n",
    "    x, y, z = particle[2:5] # This assigns the x, y, and z variables to their columns\n",
    "    vx, vy, vz = particle [5:8] # This assigns the vx, vy, and vz variables to their columns\n",
    "    mass = particle[1] # assigns mass variable to its row\n",
    "    distance = np.around(np.sqrt(x**2+y**2+z**2),3) # this is the equation to get 3D distance. Also rounds to 3 decimals\n",
    "    velocity = np.around(np.sqrt(vx**2+vx**2+vx**2),3) # this is the equation to get 3D velocity. Also rounds to 3 decimals\n",
    "    mass = np.around(mass, 3) # rounds mass to 3 decimals\n",
    "    return distance, velocity, mass # returns the distance velocity and mass of the particle\n",
    "    \n"
   ]
  },
  {
   "cell_type": "code",
   "execution_count": 79,
   "id": "0efc370b-6dda-4427-8d48-1619cb41d849",
   "metadata": {},
   "outputs": [
    {
     "name": "stdout",
     "output_type": "stream",
     "text": [
      "(792.637, 121.337, 0.004)\n"
     ]
    }
   ],
   "source": [
    "print(ParticleInfo(\"MW_000.txt\",\"Halo\",100)) # This are the values of the 100th particle"
   ]
  },
  {
   "cell_type": "code",
   "execution_count": null,
   "id": "844e0849-12af-42c9-bf62-368721af00f8",
   "metadata": {},
   "outputs": [],
   "source": []
  }
 ],
 "metadata": {
  "kernelspec": {
   "display_name": "Python 3 (ipykernel)",
   "language": "python",
   "name": "python3"
  },
  "language_info": {
   "codemirror_mode": {
    "name": "ipython",
    "version": 3
   },
   "file_extension": ".py",
   "mimetype": "text/x-python",
   "name": "python",
   "nbconvert_exporter": "python",
   "pygments_lexer": "ipython3",
   "version": "3.12.7"
  }
 },
 "nbformat": 4,
 "nbformat_minor": 5
}
