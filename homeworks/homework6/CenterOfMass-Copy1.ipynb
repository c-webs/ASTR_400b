{
 "cells": [
  {
   "cell_type": "code",
   "execution_count": null,
   "metadata": {},
   "outputs": [],
   "source": [
    "# Homework 4\n",
    "# Center of Mass Position and Velocity\n",
    "# Colin Weber"
   ]
  },
  {
   "cell_type": "code",
   "execution_count": null,
   "metadata": {},
   "outputs": [],
   "source": [
    "# remember this is just a template,\n",
    "# you don't need to follow every step.\n",
    "# If you have your own method to solve the homework,\n",
    "# it is totally fine"
   ]
  },
  {
   "cell_type": "code",
   "execution_count": 3,
   "metadata": {
    "ExecuteTime": {
     "end_time": "2020-02-04T23:59:21.657237Z",
     "start_time": "2020-02-04T23:59:21.653687Z"
    }
   },
   "outputs": [
    {
     "name": "stdout",
     "output_type": "stream",
     "text": [
      "0.0 Myr\n",
      "67500\n",
      "[(1., 0.0078997, 176.199  ,  224.196  , 308.416   ,   46.7913 ,  38.4935,   29.8794 )\n",
      " (1., 0.0078997,   9.6219 , -129.589  , 119.366   ,  178.243  , 102.29  ,   -5.86286)\n",
      " (1., 0.0078997, 466.391  , -255.95   , 348.959   ,   -9.95464,  80.6946,  -24.9736 )\n",
      " ...\n",
      " (3., 0.0002001,  -2.67969,    2.97655,  -1.6618  ,   -3.69518, -75.4957, -165.813  )\n",
      " (3., 0.0002001,  -3.76609,   -2.53036,  -0.899897, -204.091  , 207.644 ,  111.521  )\n",
      " (3., 0.0002001,  -1.11013,    2.40183,  -0.71209 ,  147.351  ,  83.5102,   93.5741 )]\n"
     ]
    }
   ],
   "source": [
    "# import modules\n",
    "import numpy as np\n",
    "import astropy.units as u\n",
    "import astropy.table as tbl\n",
    "\n",
    "from ReadFile import Read"
   ]
  },
  {
   "cell_type": "code",
   "execution_count": null,
   "metadata": {},
   "outputs": [],
   "source": []
  },
  {
   "cell_type": "code",
   "execution_count": 5,
   "metadata": {
    "ExecuteTime": {
     "end_time": "2020-02-04T23:59:24.003059Z",
     "start_time": "2020-02-04T23:59:23.979271Z"
    }
   },
   "outputs": [],
   "source": [
    "class CenterOfMass:\n",
    "# Class to define COM position and velocity properties \n",
    "# of a given galaxy and simulation snapshot\n",
    "\n",
    "    def __init__(self, filename, ptype):\n",
    "        ''' Class to calculate the 6-D phase-space position of a galaxy's center of mass using\n",
    "        a specified particle type. \n",
    "            \n",
    "            PARAMETERS\n",
    "            ----------\n",
    "            filename : `str`\n",
    "                snapshot file\n",
    "            ptype : `int; 1, 2, or 3`\n",
    "                particle type to use for COM calculations\n",
    "        '''\n",
    "     \n",
    "        # read data in the given file using Read\n",
    "        self.time, self.total, self.data = Read(filename)                                                                                             \n",
    "\n",
    "        #create an array to store indexes of particles of desired Ptype                                \n",
    "        self.index = np.where(self.data['type'] == ptype)\n",
    "\n",
    "        # store the mass, positions, velocities of only the particles of the given type\n",
    "        # the following only gives the example of storing the mass\n",
    "        self.m = self.data['m'][self.index]\n",
    "        # write your own code to complete this for positions and velocities\n",
    "        self.x = self.data['x'][self.index]\n",
    "        self.y = self.data['y'][self.index]\n",
    "        self.z = self.data['z'][self.index]\n",
    "        self.vx = self.data['vx'][self.index]\n",
    "        self.vy = self.data['vy'][self.index]\n",
    "        self.vz = self.data['vz'][self.index]\n",
    "        \n",
    "    \n",
    "    def COMdefine(self,a,b,c,m):\n",
    "        ''' Method to compute the COM of a generic vector quantity by direct weighted averaging.\n",
    "        \n",
    "        PARAMETERS\n",
    "        ----------\n",
    "        a : `float or np.ndarray of floats`\n",
    "            first vector component\n",
    "        b : `float or np.ndarray of floats`\n",
    "            second vector component\n",
    "        c : `float or np.ndarray of floats`\n",
    "            third vector component\n",
    "        m : `float or np.ndarray of floats`\n",
    "            particle masses\n",
    "        \n",
    "        RETURNS\n",
    "        -------\n",
    "        a_com : `float`\n",
    "            first component on the COM vector\n",
    "        b_com : `float`\n",
    "            second component on the COM vector\n",
    "        c_com : `float`\n",
    "            third component on the COM vector\n",
    "        '''\n",
    "        # x component Center of mass\n",
    "        a_com = np.sum(a*m) / np.sum(m)\n",
    "        # y component Center of mass\n",
    "        b_com = np.sum(b*m) / np.sum(m)\n",
    "        # z component Center of mass\n",
    "        c_com = np.sum(c*m) / np.sum(m)\n",
    "        # returns the 3 components separately\n",
    "        return a_com,b_com,c_com\n",
    "    \n",
    "    def COM_P(self, delta,volDec):\n",
    "        '''Method to compute the position of the center of mass of the galaxy \n",
    "        using the shrinking-sphere method.\n",
    "\n",
    "        PARAMETERS\n",
    "        ----------\n",
    "        delta : `float, optional`\n",
    "            error tolerance in kpc. Default is 0.1 kpc\n",
    "        \n",
    "        RETURNS\n",
    "        ----------\n",
    "        p_COM : `np.ndarray of astropy.Quantity'\n",
    "            3-D position of the center of mass in kpc\n",
    "        '''                                                                     \n",
    "        # calls COMdefine to try a first guess at COM                                         \n",
    "        x_COM, y_COM, z_COM = self.COMdefine(self.x, self.y, self.z, self.m)\n",
    "        # computes the magnitude of the COM position vector.\n",
    "        r_COM = np.sqrt(x_COM**2+y_COM**2+z_COM**2)\n",
    "\n",
    "         # finds the max 3D distance of all particles from the guessed COM   \n",
    "    \n",
    "        x_new = self.x - x_COM\n",
    "        y_new = self.y - y_COM\n",
    "        z_new = self.z - z_COM\n",
    "        r_new = np.sqrt(x_new**2.0+y_new**2.0+z_new**2.0)\n",
    "\n",
    "        # finds the max 3D distance of all particles from the guessed COM                                               \n",
    "        # re-start at half that radius (reduced radius)                                                           \n",
    "        r_max = max(r_new)/volDec\n",
    "        \n",
    "        # initial value for the change in COM position                                                      \n",
    "        change = 1000.0\n",
    "\n",
    "        # start iterative process to determine center of mass position                                                 \n",
    "        # delta is the tolerance for the difference in the old COM and the new one.    \n",
    "        \n",
    "        while (change > delta):\n",
    "            # selects all particles within the reduced radius (starting from original x,y,z, m)\n",
    "            index2 = np.where(r_new < r_max)\n",
    "            x2 = self.x[index2]\n",
    "            y2 = self.y[index2]\n",
    "            z2 = self.z[index2]\n",
    "            m2 = self.m[index2]                                                              \n",
    "            # computes the center of mass position using the particles in the reduced radius\n",
    "            x_COM2, y_COM2, z_COM2 = self.COMdefine(x2,y2,z2,m2)\n",
    "            # computes the new 3D COM position with x_COM2,y_COM2,z_COM2\n",
    "            r_COM2 = np.sqrt(x_COM2**2 + y_COM2**2 + z_COM2**2)                                 \n",
    "            # Calculates the difference in position between the previous center of mass and the current one                                                                                        \n",
    "            change = np.abs(r_COM - r_COM2)                    \n",
    "            # reduces the volume by a factor of 2 again                                                                 \n",
    "            r_max /= 2.0                                                                                    \n",
    "            # changes the frame of reference to the newly computed COM by subtracting the new COM\n",
    "            x_new = self.x - x_COM2\n",
    "            y_new = self.y - y_COM2\n",
    "            z_new = self.z - z_COM2\n",
    "            r_new = np.sqrt(x_new**2 + y_new**2 + z_new**2)\n",
    "            # sets the center of mass positions to the refined values                                                   \n",
    "            x_COM = x_COM2\n",
    "            y_COM = y_COM2\n",
    "            z_COM = z_COM2\n",
    "            r_COM = r_COM2\n",
    "\n",
    "            # creates an array (np.array) to store the COM position and rounds all values                                                                                                                                                       \n",
    "            p_COM = np.array([x_COM, y_COM, z_COM])\n",
    "        return np.round(p_COM, 2)*u.kpc\n",
    "        \n",
    "        \n",
    "    def COM_V(self, x_COM, y_COM, z_COM):\n",
    "        ''' Method to compute the center of mass velocity based on the center of mass\n",
    "        position.\n",
    "\n",
    "        PARAMETERS\n",
    "        ----------\n",
    "        x_COM : 'astropy quantity'\n",
    "            The x component of the center of mass in kpc\n",
    "        y_COM : 'astropy quantity'\n",
    "            The y component of the center of mass in kpc\n",
    "        z_COM : 'astropy quantity'\n",
    "            The z component of the center of mass in kpc\n",
    "            \n",
    "        RETURNS\n",
    "        -------\n",
    "        v_COM : `np.ndarray of astropy.Quantity'\n",
    "            3-D velocity of the center of mass in km/s\n",
    "        '''\n",
    "        \n",
    "        # max distance from the center that is used to determine the center of mass velocity                   \n",
    "        rv_max = 15.0*u.kpc\n",
    "\n",
    "        # determines the position of all particles relative to the center of mass position (x_COM, y_COM, z_COM)\n",
    "        xV = self.x[:]*u.kpc - x_COM\n",
    "        yV = self.y[:]*u.kpc - y_COM\n",
    "        zV = self.z[:]*u.kpc - z_COM\n",
    "        rV = np.sqrt(xV**2 + yV**2 + zV**2)\n",
    "        \n",
    "        # determines the index for those particles within the max radius\n",
    "        indexV = np.where(rV < rv_max)\n",
    "        # determines the velocity and mass of those particles within the mas radius\n",
    "        vx_new = self.vx[indexV]\n",
    "        vy_new = self.vy[indexV]\n",
    "        vz_new = self.vz[indexV]\n",
    "        m_new =  self.m[indexV]\n",
    "        \n",
    "        # computes the center of mass velocity using those particles\n",
    "        vx_COM, vy_COM, vz_COM = self.COMdefine(vx_new,vy_new,vz_new, m_new)\n",
    "        \n",
    "        v_COM = np.array([vx_COM, vy_COM, vz_COM])                                                                                       \n",
    "        return np.round(v_COM, 2)*u.km/u.s"
   ]
  },
  {
   "cell_type": "code",
   "execution_count": 7,
   "metadata": {
    "ExecuteTime": {
     "end_time": "2020-02-04T23:59:30.160978Z",
     "start_time": "2020-02-04T23:59:26.220455Z"
    }
   },
   "outputs": [],
   "source": [
    "# Create a Center of mass object for the MW, M31 and M33\n",
    "# below is an example of using the class for MW\n",
    "MW_COM = CenterOfMass(\"MW_000.txt\", 2)\n",
    "M31_COM = CenterOfMass(\"M31_000.txt\", 2)\n",
    "M33_COM = CenterOfMass(\"M33_000.txt\", 2)"
   ]
  },
  {
   "cell_type": "code",
   "execution_count": 11,
   "metadata": {
    "ExecuteTime": {
     "end_time": "2020-02-04T23:59:30.820428Z",
     "start_time": "2020-02-04T23:59:30.761163Z"
    }
   },
   "outputs": [
    {
     "ename": "TypeError",
     "evalue": "CenterOfMass.COM_P() missing 1 required positional argument: 'volDec'",
     "output_type": "error",
     "traceback": [
      "\u001b[1;31m---------------------------------------------------------------------------\u001b[0m",
      "\u001b[1;31mTypeError\u001b[0m                                 Traceback (most recent call last)",
      "Cell \u001b[1;32mIn[11], line 3\u001b[0m\n\u001b[0;32m      1\u001b[0m \u001b[38;5;66;03m# below gives you an example of calling the class's functions\u001b[39;00m\n\u001b[0;32m      2\u001b[0m \u001b[38;5;66;03m# MW:   store the position and velocity COM\u001b[39;00m\n\u001b[1;32m----> 3\u001b[0m MW_COM_p \u001b[38;5;241m=\u001b[39m MW_COM\u001b[38;5;241m.\u001b[39mCOM_P(\u001b[38;5;241m0.1\u001b[39m)\n\u001b[0;32m      4\u001b[0m \u001b[38;5;28mprint\u001b[39m(MW_COM_p)\n\u001b[0;32m      5\u001b[0m MW_COM_v \u001b[38;5;241m=\u001b[39m MW_COM\u001b[38;5;241m.\u001b[39mCOM_V(MW_COM_p[\u001b[38;5;241m0\u001b[39m], MW_COM_p[\u001b[38;5;241m1\u001b[39m], MW_COM_p[\u001b[38;5;241m2\u001b[39m])\n",
      "\u001b[1;31mTypeError\u001b[0m: CenterOfMass.COM_P() missing 1 required positional argument: 'volDec'"
     ]
    }
   ],
   "source": [
    "# below gives you an example of calling the class's functions\n",
    "# MW:   store the position and velocity COM\n",
    "MW_COM_p = MW_COM.COM_P(0.1)\n",
    "print(MW_COM_p)\n",
    "MW_COM_v = MW_COM.COM_V(MW_COM_p[0], MW_COM_p[1], MW_COM_p[2])\n",
    "print(MW_COM_v)\n"
   ]
  },
  {
   "cell_type": "code",
   "execution_count": 1,
   "metadata": {},
   "outputs": [
    {
     "ename": "NameError",
     "evalue": "name 'M31_COM' is not defined",
     "output_type": "error",
     "traceback": [
      "\u001b[1;31m---------------------------------------------------------------------------\u001b[0m",
      "\u001b[1;31mNameError\u001b[0m                                 Traceback (most recent call last)",
      "Cell \u001b[1;32mIn[1], line 2\u001b[0m\n\u001b[0;32m      1\u001b[0m \u001b[38;5;66;03m# now write your own code to answer questions\u001b[39;00m\n\u001b[1;32m----> 2\u001b[0m M31_COM_p \u001b[38;5;241m=\u001b[39m M31_COM\u001b[38;5;241m.\u001b[39mCOM_P(\u001b[38;5;241m0.1\u001b[39m)\n\u001b[0;32m      3\u001b[0m M31_COM_v \u001b[38;5;241m=\u001b[39m M31_COM\u001b[38;5;241m.\u001b[39mCOM_V(M31_COM_p[\u001b[38;5;241m0\u001b[39m], M31_COM_p[\u001b[38;5;241m1\u001b[39m], M31_COM_p[\u001b[38;5;241m2\u001b[39m])\n\u001b[0;32m      4\u001b[0m \u001b[38;5;28mprint\u001b[39m(M31_COM_p, M31_COM_v)\n",
      "\u001b[1;31mNameError\u001b[0m: name 'M31_COM' is not defined"
     ]
    }
   ],
   "source": [
    "# now write your own code to answer questions\n",
    "M31_COM_p = M31_COM.COM_P(0.1)\n",
    "M31_COM_v = M31_COM.COM_V(M31_COM_p[0], M31_COM_p[1], M31_COM_p[2])\n",
    "print(M31_COM_p, M31_COM_v)\n",
    "print(M31_COM_v)"
   ]
  },
  {
   "cell_type": "code",
   "execution_count": 13,
   "metadata": {},
   "outputs": [
    {
     "name": "stdout",
     "output_type": "stream",
     "text": [
      "[-476.22  491.44 -412.4 ] kpc\n",
      "[ 44.42 101.78 142.23] km / s\n",
      "44.42 km / s\n"
     ]
    }
   ],
   "source": [
    "M33_COM_p = M33_COM.COM_P(0.1)\n",
    "print(M33_COM_p)\n",
    "M33_COM_v = M33_COM.COM_V(M33_COM_p[0], M33_COM_p[1], M33_COM_p[2])\n",
    "print(M33_COM_v)\n",
    "print(M33_COM_v[0])"
   ]
  },
  {
   "cell_type": "code",
   "execution_count": 45,
   "metadata": {},
   "outputs": [],
   "source": [
    "# Q.1: \n",
    "#MW COM position vector [-1,2,-1]\n",
    "#MW COM velocity vector [-1,2,-1]\n",
    "#M31 COM position vector [-378,611,-285]\n",
    "#M31 COM velocity vector [74,-72,49]\n",
    "#MW COM position vector [-476,491,-412]\n",
    "#MW COM velocity vector [44,102,142]"
   ]
  },
  {
   "cell_type": "code",
   "execution_count": 15,
   "metadata": {},
   "outputs": [
    {
     "name": "stdout",
     "output_type": "stream",
     "text": [
      "769.098 kpc2\n",
      "117.738 km2 / s2\n"
     ]
    }
   ],
   "source": [
    "# Q.2\n",
    "# Position separation\n",
    "COMPD = np.sqrt((M31_COM_p[0]-MW_COM_p[0])**2+(M31_COM_p[1]-MW_COM_p[1])**2+(M31_COM_p[2]-MW_COM_p[2])**2)\n",
    "print (np.round(COMPD,3)*u.kpc)\n",
    "# Velocity separation\n",
    "COMVD = np.sqrt((M31_COM_v[0]-MW_COM_v[0])**2+(M31_COM_v[1]-MW_COM_v[1])**2+(M31_COM_v[2]-MW_COM_v[2])**2)\n",
    "print (np.round(COMVD,3)*u.km/u.s)"
   ]
  },
  {
   "cell_type": "code",
   "execution_count": 17,
   "metadata": {},
   "outputs": [
    {
     "name": "stdout",
     "output_type": "stream",
     "text": [
      "201.083 kpc2\n",
      "199.37 km2 / s2\n"
     ]
    }
   ],
   "source": [
    "# Q.3\n",
    "# Position separation\n",
    "COMPD33 = np.sqrt((M31_COM_p[0]-M33_COM_p[0])**2+(M31_COM_p[1]-M33_COM_p[1])**2+(M31_COM_p[2]-M33_COM_p[2])**2)\n",
    "print (np.round(COMPD33,3)*u.kpc)\n",
    "# Velocity separation\n",
    "COMVD33 = np.sqrt((M31_COM_v[0]-M33_COM_v[0])**2+(M31_COM_v[1]-M33_COM_v[1])**2+(M31_COM_v[2]-M33_COM_v[2])**2)\n",
    "print (np.round(COMVD33,3)*u.km/u.s)"
   ]
  },
  {
   "cell_type": "code",
   "execution_count": 81,
   "metadata": {},
   "outputs": [],
   "source": [
    "# Q.4\n",
    "#This is important to helping us understand how two large masses interect, \n",
    "#it also allows for us to ignore the dark matter halo, \n",
    "#which is much less predictable"
   ]
  },
  {
   "cell_type": "code",
   "execution_count": 19,
   "metadata": {},
   "outputs": [
    {
     "name": "stdout",
     "output_type": "stream",
     "text": [
      "M31 COM xyz position: [-377.66  611.43 -284.64] kpc and xyz velocity: [ 0.94  6.32 -1.35] km / s\n"
     ]
    }
   ],
   "source": [
    "M31_COM_p = M31_COM.COM_P(0.1)\n",
    "M31_COM_v = M31_COM.COM_V(M31_COM_p[0],M31_COM_p[1],M31_COM_p[2])\n",
    "print('M31 COM xyz position:', M31_COM_p, 'and xyz velocity:', MW_COM_v)"
   ]
  },
  {
   "cell_type": "code",
   "execution_count": null,
   "metadata": {},
   "outputs": [],
   "source": []
  }
 ],
 "metadata": {
  "kernelspec": {
   "display_name": "Python 3 (ipykernel)",
   "language": "python",
   "name": "python3"
  },
  "language_info": {
   "codemirror_mode": {
    "name": "ipython",
    "version": 3
   },
   "file_extension": ".py",
   "mimetype": "text/x-python",
   "name": "python",
   "nbconvert_exporter": "python",
   "pygments_lexer": "ipython3",
   "version": "3.12.7"
  },
  "varInspector": {
   "cols": {
    "lenName": 16,
    "lenType": 16,
    "lenVar": 40
   },
   "kernels_config": {
    "python": {
     "delete_cmd_postfix": "",
     "delete_cmd_prefix": "del ",
     "library": "var_list.py",
     "varRefreshCmd": "print(var_dic_list())"
    },
    "r": {
     "delete_cmd_postfix": ") ",
     "delete_cmd_prefix": "rm(",
     "library": "var_list.r",
     "varRefreshCmd": "cat(var_dic_list()) "
    }
   },
   "types_to_exclude": [
    "module",
    "function",
    "builtin_function_or_method",
    "instance",
    "_Feature"
   ],
   "window_display": false
  }
 },
 "nbformat": 4,
 "nbformat_minor": 4
}
