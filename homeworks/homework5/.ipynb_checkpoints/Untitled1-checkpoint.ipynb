{
 "cells": [
  {
   "cell_type": "code",
   "execution_count": null,
   "id": "7497e35d-b47d-40e5-84f0-7a329cb1afec",
   "metadata": {},
   "outputs": [],
   "source": []
  }
 ],
 "metadata": {
  "kernelspec": {
   "display_name": "",
   "name": ""
  },
  "language_info": {
   "name": ""
  }
 },
 "nbformat": 4,
 "nbformat_minor": 5
}
